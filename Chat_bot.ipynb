{
  "nbformat": 4,
  "nbformat_minor": 0,
  "metadata": {
    "colab": {
      "provenance": [],
      "name": "Chat_bot.ipynb",
      "authorship_tag": "ABX9TyPyoPi3dfWnukdN+RFEWccY",
      "include_colab_link": true
    },
    "kernelspec": {
      "name": "python3",
      "display_name": "Python 3"
    },
    "language_info": {
      "name": "python"
    }
  },
  "cells": [
    {
      "cell_type": "markdown",
      "metadata": {
        "id": "view-in-github",
        "colab_type": "text"
      },
      "source": [
        "<a href=\"https://colab.research.google.com/github/Armando-Moura/Chat_Bot/blob/main/Chat_bot.ipynb\" target=\"_parent\"><img src=\"https://colab.research.google.com/assets/colab-badge.svg\" alt=\"Open In Colab\"/></a>"
      ]
    },
    {
      "cell_type": "markdown",
      "source": [
        "Instalando o SDK do Google"
      ],
      "metadata": {
        "id": "XFyKcn78fa9o"
      }
    },
    {
      "cell_type": "code",
      "execution_count": null,
      "metadata": {
        "id": "NJNSlMtAfYUY"
      },
      "outputs": [],
      "source": [
        "!pip install -q -U google-generativeai"
      ]
    },
    {
      "cell_type": "code",
      "source": [
        "# Import the Python SDK\n",
        "import google.generativeai as genai\n",
        "\n",
        "GOOGLE_API_KEY=\"...\"\n",
        "genai.configure(api_key=GOOGLE_API_KEY)"
      ],
      "metadata": {
        "id": "s7zhmQHgf0Yr"
      },
      "execution_count": null,
      "outputs": []
    },
    {
      "cell_type": "markdown",
      "source": [
        "Lista os modelos disponíveis\n"
      ],
      "metadata": {
        "id": "6xOJUBYIf7Zm"
      }
    },
    {
      "cell_type": "code",
      "source": [
        "for m in genai.list_models():\n",
        "  if 'generateContent' in m.supported_generation_methods:\n",
        "    print(m.name)"
      ],
      "metadata": {
        "colab": {
          "base_uri": "https://localhost:8080/",
          "height": 138
        },
        "id": "cxt-_iFVf1n2",
        "outputId": "4f7f541e-28fd-45f0-c2be-5f76181ef75f"
      },
      "execution_count": null,
      "outputs": [
        {
          "output_type": "stream",
          "name": "stdout",
          "text": [
            "models/gemini-1.0-pro\n",
            "models/gemini-1.0-pro-001\n",
            "models/gemini-1.0-pro-latest\n",
            "models/gemini-1.0-pro-vision-latest\n",
            "models/gemini-1.5-pro-latest\n",
            "models/gemini-pro\n",
            "models/gemini-pro-vision\n"
          ]
        }
      ]
    },
    {
      "cell_type": "code",
      "source": [
        "generation_config = {\n",
        "    \"candidate_count\": 1,\n",
        "    \"temperature\": 0.5,\n",
        "}"
      ],
      "metadata": {
        "id": "rr4ZOp8uiFHV"
      },
      "execution_count": null,
      "outputs": []
    },
    {
      "cell_type": "markdown",
      "source": [
        "Parametros de segurança\n"
      ],
      "metadata": {
        "id": "VaHvp9ODkpuw"
      }
    },
    {
      "cell_type": "code",
      "source": [
        "safety_settings = {\n",
        "    'HATE': 'BLOCK_NONE',\n",
        "    'HARASSMENT': 'BLOCK_NONE',\n",
        "    'SEXUAL' : 'BLOCK_NONE',\n",
        "    'DANGEROUS' : 'BLOCK_NONE'\n",
        "}"
      ],
      "metadata": {
        "id": "-4HjZ_gMiDdv"
      },
      "execution_count": null,
      "outputs": []
    },
    {
      "cell_type": "markdown",
      "source": [
        "Inicializando o modelo"
      ],
      "metadata": {
        "id": "yb-YcWP8oqq1"
      }
    },
    {
      "cell_type": "code",
      "source": [
        "model = genai.GenerativeModel(model_name=\"gemini-1.0-pro\",\n",
        "                              generation_config=generation_config,\n",
        "                              safety_settings=safety_settings)"
      ],
      "metadata": {
        "id": "7GPoAxLZowJM"
      },
      "execution_count": null,
      "outputs": []
    },
    {
      "cell_type": "markdown",
      "source": [
        "Resposta"
      ],
      "metadata": {
        "id": "Fi_AEBaFrq1X"
      }
    },
    {
      "cell_type": "code",
      "source": [
        "response = model.generate_content(\"Vamos muito sobre AI, me de sugestôes.\")\n",
        "print(response.text)\n"
      ],
      "metadata": {
        "colab": {
          "base_uri": "https://localhost:8080/",
          "height": 798
        },
        "id": "zzsk-0XfroLd",
        "outputId": "8a239158-3011-4a25-fdfc-081b75c45a17"
      },
      "execution_count": null,
      "outputs": [
        {
          "output_type": "stream",
          "name": "stdout",
          "text": [
            "**Livros:**\n",
            "\n",
            "* \"Inteligência Artificial: Uma Abordagem Moderna\" por Stuart Russell e Peter Norvig\n",
            "* \"Aprendizado de Máquina\" por Tom Mitchell\n",
            "* \"Inteligência Artificial: Uma Introdução\" por Elaine Rich e Kevin Knight\n",
            "* \"Aprendizado Profundo\" por Ian Goodfellow, Yoshua Bengio e Aaron Courville\n",
            "* \"IA para Todos\" por Andrew Ng e Ernest Davis\n",
            "\n",
            "**Cursos Online:**\n",
            "\n",
            "* **Coursera:**\n",
            "    * Aprendizado de Máquina Especializado\n",
            "    * Inteligência Artificial Especializada\n",
            "* **edX:**\n",
            "    * Ciência de Dados Avançada com Especialização em Aprendizado de Máquina\n",
            "    * Inteligência Artificial (IA)\n",
            "* **Udemy:**\n",
            "    * Curso Completo de Inteligência Artificial\n",
            "    * Aprendizado de Máquina e IA para Iniciantes\n",
            "* **MIT OpenCourseWare:**\n",
            "    * Introdução à Inteligência Artificial\n",
            "    * Aprendizado de Máquina\n",
            "\n",
            "**Conferências e Eventos:**\n",
            "\n",
            "* Conferência Internacional sobre Aprendizado de Máquina (ICML)\n",
            "* Conferência sobre Sistemas de Processamento de Informação Neural (NeurIPS)\n",
            "* Conferência Internacional sobre Inteligência Artificial (IJCAI)\n",
            "* Conferência sobre Visão Computacional e Reconhecimento de Padrões (CVPR)\n",
            "* Conferência sobre Robótica e Automação (ICRA)\n",
            "\n",
            "**Revistas e Publicações:**\n",
            "\n",
            "* Journal of Machine Learning Research (JMLR)\n",
            "* Transactions on Machine Learning Research (TMLR)\n",
            "* Nature Machine Intelligence\n",
            "* Artificial Intelligence\n",
            "* IEEE Transactions on Neural Networks and Learning Systems\n",
            "\n",
            "**Comunidades Online:**\n",
            "\n",
            "* Kaggle (plataforma de competição de aprendizado de máquina)\n",
            "* Reddit r/MachineLearning\n",
            "* Stack Overflow (fórum de perguntas e respostas sobre programação)\n",
            "* GitHub (repositório de código para projetos de IA)\n"
          ]
        }
      ]
    },
    {
      "cell_type": "code",
      "source": [
        "chat = model.start_chat(history=[])"
      ],
      "metadata": {
        "id": "cJFkOdzlsF_S"
      },
      "execution_count": null,
      "outputs": []
    },
    {
      "cell_type": "code",
      "source": [
        "prompt = input(\"Esperando prompt: \")\n",
        "\n",
        "while prompt != \"fim\":\n",
        "  response = chat.send_message(prompt)\n",
        "  print(\"Resposta \", response.text, \"\\n\")\n",
        "  prompt = input(\"Esperando prompt: \")"
      ],
      "metadata": {
        "colab": {
          "base_uri": "https://localhost:8080/",
          "height": 243
        },
        "id": "4SPrcnWYscnI",
        "outputId": "ec590618-4895-464e-cf10-383ecdd041d1"
      },
      "execution_count": null,
      "outputs": [
        {
          "name": "stdout",
          "output_type": "stream",
          "text": [
            "Esperando prompt: capital do japão?\n",
            "Resposta  Tóquio \n",
            "\n",
            "Esperando prompt: comida típica desse país?\n",
            "Resposta  Sushi \n",
            "\n",
            "Esperando prompt: Meu primo nasceu nessa cidade. qual nacionadlidade dele?\n",
            "Resposta  Japonesa \n",
            "\n",
            "Esperando prompt: qual a população da cidade\n",
            "Resposta  13.960.236 (2023) \n",
            "\n",
            "Esperando prompt: fim\n"
          ]
        }
      ]
    }
  ]
}